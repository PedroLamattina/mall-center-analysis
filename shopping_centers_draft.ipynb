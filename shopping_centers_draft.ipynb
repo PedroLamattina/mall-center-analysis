{
 "cells": [
  {
   "cell_type": "markdown",
   "metadata": {},
   "source": [
    "# Assignment Final\n",
    "Los datos que se incluyen en el fichero `datos_ventas_centros_comerciales.csv` representan casi 100.000 compra-ventas realizadas en un grupo de Centros Comerciales durantes los años 2021 y 2022. \n",
    "\n",
    "Como analista del holding propietario de los centros comerciales realiza un analisis respondiendo a las siguiente preguntas."
   ]
  },
  {
   "cell_type": "code",
   "execution_count": 27,
   "metadata": {},
   "outputs": [],
   "source": [
    "import warnings\n",
    "warnings.filterwarnings(\"ignore\")\n",
    "import pandas as pd\n",
    "import os\n"
   ]
  },
  {
   "cell_type": "code",
   "execution_count": 28,
   "metadata": {},
   "outputs": [
    {
     "name": "stdout",
     "output_type": "stream",
     "text": [
      "Reading file: data\\datos_ventas_centros_comerciales.csv\n",
      "<class 'pandas.core.frame.DataFrame'>\n",
      "RangeIndex: 99457 entries, 0 to 99456\n",
      "Data columns (total 7 columns):\n",
      " #   Column         Non-Null Count  Dtype  \n",
      "---  ------         --------------  -----  \n",
      " 0   invoice_no     99457 non-null  object \n",
      " 1   customer_id    99457 non-null  object \n",
      " 2   category       99457 non-null  object \n",
      " 3   quantity       99457 non-null  int64  \n",
      " 4   price          99457 non-null  float64\n",
      " 5   invoice_date   99457 non-null  object \n",
      " 6   shopping_mall  99457 non-null  object \n",
      "dtypes: float64(1), int64(1), object(5)\n",
      "memory usage: 5.3+ MB\n",
      "None\n"
     ]
    }
   ],
   "source": [
    "# Path to the 'data' folder\n",
    "data_folder = \"data\"\n",
    "\n",
    "# List all files in the folder\n",
    "for file_name in os.listdir(data_folder):\n",
    "    # Check if the file is a CSV\n",
    "    if file_name.endswith(\".csv\"):\n",
    "        file_path = os.path.join(data_folder, file_name)  # Create the full path\n",
    "        print(f\"Reading file: {file_path}\")\n",
    "        \n",
    "        # Read the CSV file\n",
    "        df = pd.read_csv(file_path)\n",
    "        print(df.info())  # Display information about the DataFrame"
   ]
  },
  {
   "cell_type": "code",
   "execution_count": 29,
   "metadata": {},
   "outputs": [
    {
     "name": "stdout",
     "output_type": "stream",
     "text": [
      "  invoice_no customer_id  category  quantity    price invoice_date  \\\n",
      "0    I138884     C241288  Clothing         5  8172.24   05-08-2022   \n",
      "1    I317333     C111565     Shoes         3  8868.64   12-12-2021   \n",
      "2    I127801     C266599  Clothing         1  4863.95   09-11-2021   \n",
      "3    I173702     C988172     Shoes         5   711.48   16-05-2021   \n",
      "4    I337046     C189076     Books         4  1110.32   24-10-2021   \n",
      "\n",
      "    shopping_mall  \n",
      "0          Kanyon  \n",
      "1  Forum Istanbul  \n",
      "2       Metrocity  \n",
      "3    Metropol AVM  \n",
      "4          Kanyon  \n",
      "<class 'pandas.core.frame.DataFrame'>\n",
      "RangeIndex: 99457 entries, 0 to 99456\n",
      "Data columns (total 7 columns):\n",
      " #   Column         Non-Null Count  Dtype         \n",
      "---  ------         --------------  -----         \n",
      " 0   invoice_no     99457 non-null  object        \n",
      " 1   customer_id    99457 non-null  object        \n",
      " 2   category       99457 non-null  object        \n",
      " 3   quantity       99457 non-null  int64         \n",
      " 4   price          99457 non-null  float64       \n",
      " 5   invoice_date   99457 non-null  datetime64[ns]\n",
      " 6   shopping_mall  99457 non-null  object        \n",
      "dtypes: datetime64[ns](1), float64(1), int64(1), object(4)\n",
      "memory usage: 5.3+ MB\n"
     ]
    }
   ],
   "source": [
    "# df = pd.read_csv(r'data//')\n",
    "# df.info()\n",
    "print(df.head())\n",
    "df['invoice_date'] = pd.to_datetime(df['invoice_date'], format='%d-%m-%Y')\n",
    "df.info()\n",
    "\n",
    "\n",
    "\n",
    "\n"
   ]
  },
  {
   "cell_type": "code",
   "execution_count": 30,
   "metadata": {},
   "outputs": [],
   "source": [
    "df_2021_2022 = ((df.invoice_date >='01-01-2021') & (df.invoice_date <= '31-12-2022'))"
   ]
  },
  {
   "cell_type": "code",
   "execution_count": 31,
   "metadata": {},
   "outputs": [
    {
     "name": "stdout",
     "output_type": "stream",
     "text": [
      "<class 'pandas.core.frame.DataFrame'>\n",
      "RangeIndex: 99457 entries, 0 to 99456\n",
      "Data columns (total 7 columns):\n",
      " #   Column         Non-Null Count  Dtype         \n",
      "---  ------         --------------  -----         \n",
      " 0   invoice_no     99457 non-null  object        \n",
      " 1   customer_id    99457 non-null  object        \n",
      " 2   category       99457 non-null  object        \n",
      " 3   quantity       99457 non-null  int64         \n",
      " 4   price          99457 non-null  float64       \n",
      " 5   invoice_date   99457 non-null  datetime64[ns]\n",
      " 6   shopping_mall  99457 non-null  object        \n",
      "dtypes: datetime64[ns](1), float64(1), int64(1), object(4)\n",
      "memory usage: 5.3+ MB\n"
     ]
    },
    {
     "data": {
      "text/html": [
       "<div>\n",
       "<style scoped>\n",
       "    .dataframe tbody tr th:only-of-type {\n",
       "        vertical-align: middle;\n",
       "    }\n",
       "\n",
       "    .dataframe tbody tr th {\n",
       "        vertical-align: top;\n",
       "    }\n",
       "\n",
       "    .dataframe thead th {\n",
       "        text-align: right;\n",
       "    }\n",
       "</style>\n",
       "<table border=\"1\" class=\"dataframe\">\n",
       "  <thead>\n",
       "    <tr style=\"text-align: right;\">\n",
       "      <th></th>\n",
       "      <th>invoice_no</th>\n",
       "      <th>customer_id</th>\n",
       "      <th>category</th>\n",
       "      <th>quantity</th>\n",
       "      <th>price</th>\n",
       "      <th>invoice_date</th>\n",
       "      <th>shopping_mall</th>\n",
       "    </tr>\n",
       "  </thead>\n",
       "  <tbody>\n",
       "    <tr>\n",
       "      <th>0</th>\n",
       "      <td>I138884</td>\n",
       "      <td>C241288</td>\n",
       "      <td>Clothing</td>\n",
       "      <td>5</td>\n",
       "      <td>8172.24</td>\n",
       "      <td>2022-08-05</td>\n",
       "      <td>Kanyon</td>\n",
       "    </tr>\n",
       "    <tr>\n",
       "      <th>1</th>\n",
       "      <td>I317333</td>\n",
       "      <td>C111565</td>\n",
       "      <td>Shoes</td>\n",
       "      <td>3</td>\n",
       "      <td>8868.64</td>\n",
       "      <td>2021-12-12</td>\n",
       "      <td>Forum Istanbul</td>\n",
       "    </tr>\n",
       "    <tr>\n",
       "      <th>2</th>\n",
       "      <td>I127801</td>\n",
       "      <td>C266599</td>\n",
       "      <td>Clothing</td>\n",
       "      <td>1</td>\n",
       "      <td>4863.95</td>\n",
       "      <td>2021-11-09</td>\n",
       "      <td>Metrocity</td>\n",
       "    </tr>\n",
       "    <tr>\n",
       "      <th>3</th>\n",
       "      <td>I173702</td>\n",
       "      <td>C988172</td>\n",
       "      <td>Shoes</td>\n",
       "      <td>5</td>\n",
       "      <td>711.48</td>\n",
       "      <td>2021-05-16</td>\n",
       "      <td>Metropol AVM</td>\n",
       "    </tr>\n",
       "    <tr>\n",
       "      <th>4</th>\n",
       "      <td>I337046</td>\n",
       "      <td>C189076</td>\n",
       "      <td>Books</td>\n",
       "      <td>4</td>\n",
       "      <td>1110.32</td>\n",
       "      <td>2021-10-24</td>\n",
       "      <td>Kanyon</td>\n",
       "    </tr>\n",
       "  </tbody>\n",
       "</table>\n",
       "</div>"
      ],
      "text/plain": [
       "  invoice_no customer_id  category  quantity    price invoice_date  \\\n",
       "0    I138884     C241288  Clothing         5  8172.24   2022-08-05   \n",
       "1    I317333     C111565     Shoes         3  8868.64   2021-12-12   \n",
       "2    I127801     C266599  Clothing         1  4863.95   2021-11-09   \n",
       "3    I173702     C988172     Shoes         5   711.48   2021-05-16   \n",
       "4    I337046     C189076     Books         4  1110.32   2021-10-24   \n",
       "\n",
       "    shopping_mall  \n",
       "0          Kanyon  \n",
       "1  Forum Istanbul  \n",
       "2       Metrocity  \n",
       "3    Metropol AVM  \n",
       "4          Kanyon  "
      ]
     },
     "execution_count": 31,
     "metadata": {},
     "output_type": "execute_result"
    }
   ],
   "source": [
    "df.info()\n",
    "df_2021_2022 = ((df.invoice_date >='01-01-2021') & (df.invoice_date <= '31-12-2022'))\n",
    "# # df['invoice_date'].apply(lambda x: x.day_name())\n",
    "df_filtrado = df[df_2021_2022]\n",
    "df_filtrado['invoice_date'] = df_filtrado['invoice_date'].dt.normalize()\n",
    "df_filtrado.head()"
   ]
  },
  {
   "cell_type": "code",
   "execution_count": 32,
   "metadata": {},
   "outputs": [
    {
     "data": {
      "text/html": [
       "<div>\n",
       "<style scoped>\n",
       "    .dataframe tbody tr th:only-of-type {\n",
       "        vertical-align: middle;\n",
       "    }\n",
       "\n",
       "    .dataframe tbody tr th {\n",
       "        vertical-align: top;\n",
       "    }\n",
       "\n",
       "    .dataframe thead th {\n",
       "        text-align: right;\n",
       "    }\n",
       "</style>\n",
       "<table border=\"1\" class=\"dataframe\">\n",
       "  <thead>\n",
       "    <tr style=\"text-align: right;\">\n",
       "      <th></th>\n",
       "      <th>invoice_no</th>\n",
       "      <th>customer_id</th>\n",
       "      <th>category</th>\n",
       "      <th>quantity</th>\n",
       "      <th>price</th>\n",
       "      <th>invoice_date</th>\n",
       "      <th>shopping_mall</th>\n",
       "    </tr>\n",
       "  </thead>\n",
       "  <tbody>\n",
       "    <tr>\n",
       "      <th>0</th>\n",
       "      <td>I138884</td>\n",
       "      <td>C241288</td>\n",
       "      <td>Clothing</td>\n",
       "      <td>5</td>\n",
       "      <td>8172.24</td>\n",
       "      <td>2022-08-05</td>\n",
       "      <td>Kanyon</td>\n",
       "    </tr>\n",
       "    <tr>\n",
       "      <th>1</th>\n",
       "      <td>I317333</td>\n",
       "      <td>C111565</td>\n",
       "      <td>Shoes</td>\n",
       "      <td>3</td>\n",
       "      <td>8868.64</td>\n",
       "      <td>2021-12-12</td>\n",
       "      <td>Forum Istanbul</td>\n",
       "    </tr>\n",
       "    <tr>\n",
       "      <th>2</th>\n",
       "      <td>I127801</td>\n",
       "      <td>C266599</td>\n",
       "      <td>Clothing</td>\n",
       "      <td>1</td>\n",
       "      <td>4863.95</td>\n",
       "      <td>2021-11-09</td>\n",
       "      <td>Metrocity</td>\n",
       "    </tr>\n",
       "    <tr>\n",
       "      <th>3</th>\n",
       "      <td>I173702</td>\n",
       "      <td>C988172</td>\n",
       "      <td>Shoes</td>\n",
       "      <td>5</td>\n",
       "      <td>711.48</td>\n",
       "      <td>2021-05-16</td>\n",
       "      <td>Metropol AVM</td>\n",
       "    </tr>\n",
       "    <tr>\n",
       "      <th>4</th>\n",
       "      <td>I337046</td>\n",
       "      <td>C189076</td>\n",
       "      <td>Books</td>\n",
       "      <td>4</td>\n",
       "      <td>1110.32</td>\n",
       "      <td>2021-10-24</td>\n",
       "      <td>Kanyon</td>\n",
       "    </tr>\n",
       "  </tbody>\n",
       "</table>\n",
       "</div>"
      ],
      "text/plain": [
       "  invoice_no customer_id  category  quantity    price invoice_date  \\\n",
       "0    I138884     C241288  Clothing         5  8172.24   2022-08-05   \n",
       "1    I317333     C111565     Shoes         3  8868.64   2021-12-12   \n",
       "2    I127801     C266599  Clothing         1  4863.95   2021-11-09   \n",
       "3    I173702     C988172     Shoes         5   711.48   2021-05-16   \n",
       "4    I337046     C189076     Books         4  1110.32   2021-10-24   \n",
       "\n",
       "    shopping_mall  \n",
       "0          Kanyon  \n",
       "1  Forum Istanbul  \n",
       "2       Metrocity  \n",
       "3    Metropol AVM  \n",
       "4          Kanyon  "
      ]
     },
     "execution_count": 32,
     "metadata": {},
     "output_type": "execute_result"
    }
   ],
   "source": [
    "df_filtrado.head()"
   ]
  },
  {
   "cell_type": "markdown",
   "metadata": {},
   "source": [
    "# 1. ¿Cuál es el total de ingresos generados por todas las ventas registradas?\n",
    "Guarda el resultado en una variable llamada `total_ingresos`\n",
    "\n"
   ]
  },
  {
   "cell_type": "code",
   "execution_count": 33,
   "metadata": {},
   "outputs": [
    {
     "name": "stdout",
     "output_type": "stream",
     "text": [
      "1. El total de ingreso por ventas registradas es 1365286860.7\n"
     ]
    }
   ],
   "source": [
    "df_filtrado['ventas'] = df_filtrado['quantity'] * df_filtrado['price']\n",
    "total_ingresos = df_filtrado['ventas'].sum()\n",
    "\n",
    "print(f'1. El total de ingreso por ventas registradas es {total_ingresos}')\n",
    "\n",
    "\n"
   ]
  },
  {
   "cell_type": "code",
   "execution_count": 34,
   "metadata": {},
   "outputs": [],
   "source": [
    "#modificar data con fechas\n"
   ]
  },
  {
   "cell_type": "markdown",
   "metadata": {},
   "source": [
    "# 2. ¿Cuál es el centro comercial que ha generado más ventas?\n",
    "Guarda el resultado en una variable llamada `centro_comercial_mas_ventas`\n"
   ]
  },
  {
   "cell_type": "code",
   "execution_count": 35,
   "metadata": {},
   "outputs": [
    {
     "name": "stdout",
     "output_type": "stream",
     "text": [
      "2. El centro comercial que mas ventas a generado es Mall of Istanbul con 273687068.58\n"
     ]
    }
   ],
   "source": [
    "#Groupby centro comercial y ventas \n",
    "centro_comercial_mas_ventas = df_filtrado.groupby('shopping_mall')['ventas'].sum().sort_values(ascending=False)\n",
    "\n",
    "\n",
    "print(f'2. El centro comercial que mas ventas a generado es {centro_comercial_mas_ventas.index[0]} con {centro_comercial_mas_ventas[0]}')"
   ]
  },
  {
   "cell_type": "markdown",
   "metadata": {},
   "source": [
    "# 3. ¿Cuál es la categoría de producto que ha generado mas ventas? \n",
    "Guarda el resultado en una variable llamada `categoria_mas_vendida`\n"
   ]
  },
  {
   "cell_type": "code",
   "execution_count": 36,
   "metadata": {},
   "outputs": [
    {
     "name": "stdout",
     "output_type": "stream",
     "text": [
      "3. La categoria más vendida es Clothing con 470815767.35\n"
     ]
    }
   ],
   "source": [
    "#Groupby categoria de producto y ventas \n",
    "categoria_mas_vendida = df_filtrado.groupby('category')['ventas'].sum().sort_values(ascending=False)\n",
    "categoria_mas_vendida\n",
    "\n",
    "print(f'3. La categoria más vendida es {categoria_mas_vendida.index[0]} con {categoria_mas_vendida[0]}')"
   ]
  },
  {
   "cell_type": "markdown",
   "metadata": {},
   "source": [
    "# 4. ¿Cuál es el producto más caro vendido?\n",
    "Guarda el resultado en una variable llamada `categoria_producto_mas_caro`\n",
    "\n"
   ]
  },
  {
   "cell_type": "code",
   "execution_count": 37,
   "metadata": {},
   "outputs": [
    {
     "name": "stdout",
     "output_type": "stream",
     "text": [
      "4. El producto más caro vendido es Toys a precio de 9999.72 dólares\n"
     ]
    }
   ],
   "source": [
    "#Groupby categoria de producto mas caro y ventas\n",
    "categoria_producto_mas_caro = df_filtrado.groupby('category')['price'].max().sort_values(ascending=False)\n",
    "categoria_producto_mas_caro \n",
    "\n",
    "print(f'4. El producto más caro vendido es {categoria_producto_mas_caro.index[0]} a precio de {categoria_producto_mas_caro[0]} dólares')"
   ]
  },
  {
   "cell_type": "markdown",
   "metadata": {},
   "source": [
    "# 5. ¿Cuál es la factura más antigua registrada en el dataset?\n",
    "Guarda el resultado en una variable llamada `factura_mas_antigua`\n"
   ]
  },
  {
   "cell_type": "code",
   "execution_count": 38,
   "metadata": {},
   "outputs": [
    {
     "name": "stdout",
     "output_type": "stream",
     "text": [
      "5. La factura más antigua es la I301161 con fecha 2021-01-01\n"
     ]
    },
    {
     "data": {
      "text/plain": [
       "'I301161'"
      ]
     },
     "execution_count": 38,
     "metadata": {},
     "output_type": "execute_result"
    }
   ],
   "source": [
    "\n",
    "factura_mas_antigua = df_filtrado.groupby('invoice_date').first().sort_index()['invoice_no']\n",
    "\n",
    "print(f\"5. La factura más antigua es la {factura_mas_antigua.iloc[0]} con fecha {factura_mas_antigua.index[0].strftime('%Y-%m-%d')}\")\n",
    "\n",
    "\n",
    "\n",
    "\n",
    "factura_fecha_antigua = df_filtrado['invoice_date'].min()\n",
    "\n",
    "factura_mas_vieja = df_filtrado[df_filtrado['invoice_date']==factura_fecha_antigua]['invoice_no'].iloc[0]\n",
    "factura_mas_vieja\n",
    "\n"
   ]
  },
  {
   "cell_type": "markdown",
   "metadata": {},
   "source": [
    "# 6. ¿Cuál es la cantidad promedio de productos vendidos por transacción?\n",
    "Guarda el resultado en una variable llamada `cantidad_promedio_por_transaccion`\n",
    "\n"
   ]
  },
  {
   "cell_type": "code",
   "execution_count": 39,
   "metadata": {},
   "outputs": [
    {
     "name": "stdout",
     "output_type": "stream",
     "text": [
      "6. La cantidad promedio de productos vendidos es 3.0049\n"
     ]
    }
   ],
   "source": [
    "# df_filtrado.groupby('invoice_no')['quantity'].mean().sort_values(ascending=False)\n",
    "cantidad_promedio_por_transaccion = df_filtrado['quantity'].mean()\n",
    "print(f'6. La cantidad promedio de productos vendidos es {round(cantidad_promedio_por_transaccion,4)}')\n"
   ]
  },
  {
   "cell_type": "code",
   "execution_count": 40,
   "metadata": {},
   "outputs": [
    {
     "data": {
      "text/plain": [
       "Index(['invoice_no', 'customer_id', 'category', 'quantity', 'price',\n",
       "       'invoice_date', 'shopping_mall', 'ventas'],\n",
       "      dtype='object')"
      ]
     },
     "execution_count": 40,
     "metadata": {},
     "output_type": "execute_result"
    }
   ],
   "source": [
    "df_filtrado.columns"
   ]
  },
  {
   "cell_type": "code",
   "execution_count": 41,
   "metadata": {},
   "outputs": [
    {
     "data": {
      "text/html": [
       "<div>\n",
       "<style scoped>\n",
       "    .dataframe tbody tr th:only-of-type {\n",
       "        vertical-align: middle;\n",
       "    }\n",
       "\n",
       "    .dataframe tbody tr th {\n",
       "        vertical-align: top;\n",
       "    }\n",
       "\n",
       "    .dataframe thead th {\n",
       "        text-align: right;\n",
       "    }\n",
       "</style>\n",
       "<table border=\"1\" class=\"dataframe\">\n",
       "  <thead>\n",
       "    <tr style=\"text-align: right;\">\n",
       "      <th></th>\n",
       "      <th>invoice_no</th>\n",
       "      <th>customer_id</th>\n",
       "      <th>category</th>\n",
       "      <th>quantity</th>\n",
       "      <th>price</th>\n",
       "      <th>invoice_date</th>\n",
       "      <th>shopping_mall</th>\n",
       "      <th>ventas</th>\n",
       "    </tr>\n",
       "  </thead>\n",
       "  <tbody>\n",
       "    <tr>\n",
       "      <th>0</th>\n",
       "      <td>I138884</td>\n",
       "      <td>C241288</td>\n",
       "      <td>Clothing</td>\n",
       "      <td>5</td>\n",
       "      <td>8172.24</td>\n",
       "      <td>2022-08-05</td>\n",
       "      <td>Kanyon</td>\n",
       "      <td>40861.20</td>\n",
       "    </tr>\n",
       "    <tr>\n",
       "      <th>1</th>\n",
       "      <td>I317333</td>\n",
       "      <td>C111565</td>\n",
       "      <td>Shoes</td>\n",
       "      <td>3</td>\n",
       "      <td>8868.64</td>\n",
       "      <td>2021-12-12</td>\n",
       "      <td>Forum Istanbul</td>\n",
       "      <td>26605.92</td>\n",
       "    </tr>\n",
       "    <tr>\n",
       "      <th>2</th>\n",
       "      <td>I127801</td>\n",
       "      <td>C266599</td>\n",
       "      <td>Clothing</td>\n",
       "      <td>1</td>\n",
       "      <td>4863.95</td>\n",
       "      <td>2021-11-09</td>\n",
       "      <td>Metrocity</td>\n",
       "      <td>4863.95</td>\n",
       "    </tr>\n",
       "    <tr>\n",
       "      <th>3</th>\n",
       "      <td>I173702</td>\n",
       "      <td>C988172</td>\n",
       "      <td>Shoes</td>\n",
       "      <td>5</td>\n",
       "      <td>711.48</td>\n",
       "      <td>2021-05-16</td>\n",
       "      <td>Metropol AVM</td>\n",
       "      <td>3557.40</td>\n",
       "    </tr>\n",
       "    <tr>\n",
       "      <th>4</th>\n",
       "      <td>I337046</td>\n",
       "      <td>C189076</td>\n",
       "      <td>Books</td>\n",
       "      <td>4</td>\n",
       "      <td>1110.32</td>\n",
       "      <td>2021-10-24</td>\n",
       "      <td>Kanyon</td>\n",
       "      <td>4441.28</td>\n",
       "    </tr>\n",
       "    <tr>\n",
       "      <th>5</th>\n",
       "      <td>I227836</td>\n",
       "      <td>C657758</td>\n",
       "      <td>Clothing</td>\n",
       "      <td>5</td>\n",
       "      <td>869.43</td>\n",
       "      <td>2022-05-24</td>\n",
       "      <td>Forum Istanbul</td>\n",
       "      <td>4347.15</td>\n",
       "    </tr>\n",
       "    <tr>\n",
       "      <th>6</th>\n",
       "      <td>I121056</td>\n",
       "      <td>C151197</td>\n",
       "      <td>Cosmetics</td>\n",
       "      <td>1</td>\n",
       "      <td>1788.28</td>\n",
       "      <td>2022-03-13</td>\n",
       "      <td>Istinye Park</td>\n",
       "      <td>1788.28</td>\n",
       "    </tr>\n",
       "    <tr>\n",
       "      <th>7</th>\n",
       "      <td>I293112</td>\n",
       "      <td>C176086</td>\n",
       "      <td>Clothing</td>\n",
       "      <td>2</td>\n",
       "      <td>1336.31</td>\n",
       "      <td>2021-01-13</td>\n",
       "      <td>Mall of Istanbul</td>\n",
       "      <td>2672.62</td>\n",
       "    </tr>\n",
       "    <tr>\n",
       "      <th>8</th>\n",
       "      <td>I293455</td>\n",
       "      <td>C159642</td>\n",
       "      <td>Clothing</td>\n",
       "      <td>3</td>\n",
       "      <td>7393.68</td>\n",
       "      <td>2021-11-04</td>\n",
       "      <td>Metrocity</td>\n",
       "      <td>22181.04</td>\n",
       "    </tr>\n",
       "    <tr>\n",
       "      <th>9</th>\n",
       "      <td>I326945</td>\n",
       "      <td>C283361</td>\n",
       "      <td>Clothing</td>\n",
       "      <td>2</td>\n",
       "      <td>9057.36</td>\n",
       "      <td>2021-08-22</td>\n",
       "      <td>Kanyon</td>\n",
       "      <td>18114.72</td>\n",
       "    </tr>\n",
       "    <tr>\n",
       "      <th>10</th>\n",
       "      <td>I306368</td>\n",
       "      <td>C240286</td>\n",
       "      <td>Food &amp; Beverage</td>\n",
       "      <td>2</td>\n",
       "      <td>3496.77</td>\n",
       "      <td>2022-12-25</td>\n",
       "      <td>Metrocity</td>\n",
       "      <td>6993.54</td>\n",
       "    </tr>\n",
       "    <tr>\n",
       "      <th>11</th>\n",
       "      <td>I139207</td>\n",
       "      <td>C191708</td>\n",
       "      <td>Books</td>\n",
       "      <td>1</td>\n",
       "      <td>4998.51</td>\n",
       "      <td>2022-10-28</td>\n",
       "      <td>Emaar Square Mall</td>\n",
       "      <td>4998.51</td>\n",
       "    </tr>\n",
       "    <tr>\n",
       "      <th>12</th>\n",
       "      <td>I640508</td>\n",
       "      <td>C225330</td>\n",
       "      <td>Toys</td>\n",
       "      <td>4</td>\n",
       "      <td>8427.92</td>\n",
       "      <td>2022-07-31</td>\n",
       "      <td>Metrocity</td>\n",
       "      <td>33711.68</td>\n",
       "    </tr>\n",
       "    <tr>\n",
       "      <th>13</th>\n",
       "      <td>I179802</td>\n",
       "      <td>C312861</td>\n",
       "      <td>Clothing</td>\n",
       "      <td>2</td>\n",
       "      <td>3360.96</td>\n",
       "      <td>2022-11-17</td>\n",
       "      <td>Cevahir AVM</td>\n",
       "      <td>6721.92</td>\n",
       "    </tr>\n",
       "    <tr>\n",
       "      <th>14</th>\n",
       "      <td>I336189</td>\n",
       "      <td>C555402</td>\n",
       "      <td>Clothing</td>\n",
       "      <td>2</td>\n",
       "      <td>2355.39</td>\n",
       "      <td>2022-06-03</td>\n",
       "      <td>Kanyon</td>\n",
       "      <td>4710.78</td>\n",
       "    </tr>\n",
       "    <tr>\n",
       "      <th>15</th>\n",
       "      <td>I688768</td>\n",
       "      <td>C362288</td>\n",
       "      <td>Shoes</td>\n",
       "      <td>5</td>\n",
       "      <td>8660.31</td>\n",
       "      <td>2021-11-07</td>\n",
       "      <td>Viaport Outlet</td>\n",
       "      <td>43301.55</td>\n",
       "    </tr>\n",
       "    <tr>\n",
       "      <th>16</th>\n",
       "      <td>I294687</td>\n",
       "      <td>C300786</td>\n",
       "      <td>Books</td>\n",
       "      <td>2</td>\n",
       "      <td>9303.17</td>\n",
       "      <td>2021-01-16</td>\n",
       "      <td>Metrocity</td>\n",
       "      <td>18606.34</td>\n",
       "    </tr>\n",
       "    <tr>\n",
       "      <th>17</th>\n",
       "      <td>I195744</td>\n",
       "      <td>C330667</td>\n",
       "      <td>Food &amp; Beverage</td>\n",
       "      <td>3</td>\n",
       "      <td>4393.90</td>\n",
       "      <td>2022-01-05</td>\n",
       "      <td>Zorlu Center</td>\n",
       "      <td>13181.70</td>\n",
       "    </tr>\n",
       "    <tr>\n",
       "      <th>18</th>\n",
       "      <td>I993048</td>\n",
       "      <td>C218149</td>\n",
       "      <td>Clothing</td>\n",
       "      <td>2</td>\n",
       "      <td>753.95</td>\n",
       "      <td>2021-07-26</td>\n",
       "      <td>Metropol AVM</td>\n",
       "      <td>1507.90</td>\n",
       "    </tr>\n",
       "    <tr>\n",
       "      <th>21</th>\n",
       "      <td>I412481</td>\n",
       "      <td>C125696</td>\n",
       "      <td>Food &amp; Beverage</td>\n",
       "      <td>1</td>\n",
       "      <td>3339.01</td>\n",
       "      <td>2021-05-01</td>\n",
       "      <td>Cevahir AVM</td>\n",
       "      <td>3339.01</td>\n",
       "    </tr>\n",
       "    <tr>\n",
       "      <th>22</th>\n",
       "      <td>I823067</td>\n",
       "      <td>C322947</td>\n",
       "      <td>Clothing</td>\n",
       "      <td>2</td>\n",
       "      <td>2899.79</td>\n",
       "      <td>2022-06-18</td>\n",
       "      <td>Cevahir AVM</td>\n",
       "      <td>5799.58</td>\n",
       "    </tr>\n",
       "    <tr>\n",
       "      <th>23</th>\n",
       "      <td>I252275</td>\n",
       "      <td>C313348</td>\n",
       "      <td>Technology</td>\n",
       "      <td>5</td>\n",
       "      <td>4155.59</td>\n",
       "      <td>2021-10-26</td>\n",
       "      <td>Kanyon</td>\n",
       "      <td>20777.95</td>\n",
       "    </tr>\n",
       "    <tr>\n",
       "      <th>24</th>\n",
       "      <td>I174250</td>\n",
       "      <td>C204553</td>\n",
       "      <td>Books</td>\n",
       "      <td>5</td>\n",
       "      <td>2626.68</td>\n",
       "      <td>2022-12-16</td>\n",
       "      <td>Metrocity</td>\n",
       "      <td>13133.40</td>\n",
       "    </tr>\n",
       "    <tr>\n",
       "      <th>25</th>\n",
       "      <td>I195396</td>\n",
       "      <td>C285161</td>\n",
       "      <td>Toys</td>\n",
       "      <td>2</td>\n",
       "      <td>7378.66</td>\n",
       "      <td>2021-05-16</td>\n",
       "      <td>Istinye Park</td>\n",
       "      <td>14757.32</td>\n",
       "    </tr>\n",
       "    <tr>\n",
       "      <th>26</th>\n",
       "      <td>I196704</td>\n",
       "      <td>C289625</td>\n",
       "      <td>Cosmetics</td>\n",
       "      <td>5</td>\n",
       "      <td>5148.96</td>\n",
       "      <td>2022-04-20</td>\n",
       "      <td>Mall of Istanbul</td>\n",
       "      <td>25744.80</td>\n",
       "    </tr>\n",
       "  </tbody>\n",
       "</table>\n",
       "</div>"
      ],
      "text/plain": [
       "   invoice_no customer_id         category  quantity    price invoice_date  \\\n",
       "0     I138884     C241288         Clothing         5  8172.24   2022-08-05   \n",
       "1     I317333     C111565            Shoes         3  8868.64   2021-12-12   \n",
       "2     I127801     C266599         Clothing         1  4863.95   2021-11-09   \n",
       "3     I173702     C988172            Shoes         5   711.48   2021-05-16   \n",
       "4     I337046     C189076            Books         4  1110.32   2021-10-24   \n",
       "5     I227836     C657758         Clothing         5   869.43   2022-05-24   \n",
       "6     I121056     C151197        Cosmetics         1  1788.28   2022-03-13   \n",
       "7     I293112     C176086         Clothing         2  1336.31   2021-01-13   \n",
       "8     I293455     C159642         Clothing         3  7393.68   2021-11-04   \n",
       "9     I326945     C283361         Clothing         2  9057.36   2021-08-22   \n",
       "10    I306368     C240286  Food & Beverage         2  3496.77   2022-12-25   \n",
       "11    I139207     C191708            Books         1  4998.51   2022-10-28   \n",
       "12    I640508     C225330             Toys         4  8427.92   2022-07-31   \n",
       "13    I179802     C312861         Clothing         2  3360.96   2022-11-17   \n",
       "14    I336189     C555402         Clothing         2  2355.39   2022-06-03   \n",
       "15    I688768     C362288            Shoes         5  8660.31   2021-11-07   \n",
       "16    I294687     C300786            Books         2  9303.17   2021-01-16   \n",
       "17    I195744     C330667  Food & Beverage         3  4393.90   2022-01-05   \n",
       "18    I993048     C218149         Clothing         2   753.95   2021-07-26   \n",
       "21    I412481     C125696  Food & Beverage         1  3339.01   2021-05-01   \n",
       "22    I823067     C322947         Clothing         2  2899.79   2022-06-18   \n",
       "23    I252275     C313348       Technology         5  4155.59   2021-10-26   \n",
       "24    I174250     C204553            Books         5  2626.68   2022-12-16   \n",
       "25    I195396     C285161             Toys         2  7378.66   2021-05-16   \n",
       "26    I196704     C289625        Cosmetics         5  5148.96   2022-04-20   \n",
       "\n",
       "        shopping_mall    ventas  \n",
       "0              Kanyon  40861.20  \n",
       "1      Forum Istanbul  26605.92  \n",
       "2           Metrocity   4863.95  \n",
       "3        Metropol AVM   3557.40  \n",
       "4              Kanyon   4441.28  \n",
       "5      Forum Istanbul   4347.15  \n",
       "6        Istinye Park   1788.28  \n",
       "7    Mall of Istanbul   2672.62  \n",
       "8           Metrocity  22181.04  \n",
       "9              Kanyon  18114.72  \n",
       "10          Metrocity   6993.54  \n",
       "11  Emaar Square Mall   4998.51  \n",
       "12          Metrocity  33711.68  \n",
       "13        Cevahir AVM   6721.92  \n",
       "14             Kanyon   4710.78  \n",
       "15     Viaport Outlet  43301.55  \n",
       "16          Metrocity  18606.34  \n",
       "17       Zorlu Center  13181.70  \n",
       "18       Metropol AVM   1507.90  \n",
       "21        Cevahir AVM   3339.01  \n",
       "22        Cevahir AVM   5799.58  \n",
       "23             Kanyon  20777.95  \n",
       "24          Metrocity  13133.40  \n",
       "25       Istinye Park  14757.32  \n",
       "26   Mall of Istanbul  25744.80  "
      ]
     },
     "execution_count": 41,
     "metadata": {},
     "output_type": "execute_result"
    }
   ],
   "source": [
    "df_filtrado.head(25)"
   ]
  },
  {
   "cell_type": "markdown",
   "metadata": {},
   "source": [
    "# 7. ¿Cuál es el día con más ventas registradas?\n",
    "Guarda el resultado en una variable llamada `dia_con_mas_ventas`\n"
   ]
  },
  {
   "cell_type": "code",
   "execution_count": 42,
   "metadata": {},
   "outputs": [
    {
     "name": "stdout",
     "output_type": "stream",
     "text": [
      "7. El día con más ventas fue el 2021-11-24, con un total de 159 transacciones\n"
     ]
    }
   ],
   "source": [
    "# dia_con_mas_ventas = df_filtrado.groupby('invoice_date')['ventas'].sum().idxmax()\n",
    "# dia_con_mas_ventas\n",
    "\n",
    "dia_con_mas_ventas = df_filtrado['invoice_date'].value_counts()\n",
    "print(f\"7. El día con más ventas fue el {dia_con_mas_ventas.index[0].strftime('%Y-%m-%d')}, con un total de {dia_con_mas_ventas.iloc[0]} transacciones\")\n"
   ]
  },
  {
   "cell_type": "code",
   "execution_count": 43,
   "metadata": {},
   "outputs": [
    {
     "data": {
      "text/plain": [
       "invoice_date\n",
       "2021-11-24    159\n",
       "2022-10-23    155\n",
       "2021-01-06    155\n",
       "2022-07-25    155\n",
       "2021-07-19    154\n",
       "             ... \n",
       "2021-10-27     98\n",
       "2022-10-18     98\n",
       "2021-09-30     96\n",
       "2021-12-02     94\n",
       "2022-01-16     93\n",
       "Name: count, Length: 730, dtype: int64"
      ]
     },
     "execution_count": 43,
     "metadata": {},
     "output_type": "execute_result"
    }
   ],
   "source": [
    "df_filtrado['invoice_date'].value_counts()"
   ]
  },
  {
   "cell_type": "code",
   "execution_count": 44,
   "metadata": {},
   "outputs": [
    {
     "name": "stdout",
     "output_type": "stream",
     "text": [
      "invoice_date\n",
      "2022-06-09    483\n",
      "2021-07-19    480\n",
      "2021-10-28    466\n",
      "2021-07-21    462\n",
      "2021-11-24    460\n",
      "             ... \n",
      "2021-02-08    293\n",
      "2021-09-30    289\n",
      "2021-10-27    288\n",
      "2021-09-18    285\n",
      "2022-01-01    274\n",
      "Name: quantity, Length: 730, dtype: int64\n",
      "El día con más ventas fue el 2022-06-09 00:00:00, con un total de 483 ventas\n"
     ]
    }
   ],
   "source": [
    "ventas_por_dia = df_filtrado.groupby('invoice_date')['quantity'].sum().sort_values(ascending=False)\n",
    "print(ventas_por_dia)\n",
    "dia_con_mas_ventas = ventas_por_dia.index[0]\n",
    "dia_con_mas_ventas\n",
    "ventas_dia_con_mas_ventas = ventas_por_dia.iloc[0]\n",
    "ventas_dia_con_mas_ventas\n",
    "print(f\"El día con más ventas fue el {dia_con_mas_ventas}, con un total de {ventas_dia_con_mas_ventas} ventas\")"
   ]
  },
  {
   "cell_type": "markdown",
   "metadata": {},
   "source": [
    "# 8. ¿Cuál es el cliente que más ha gastado en total?\n",
    "Guarda el resultado en una variable llamada `cliente_que_mas_gasto`\n"
   ]
  },
  {
   "cell_type": "code",
   "execution_count": 45,
   "metadata": {},
   "outputs": [
    {
     "name": "stdout",
     "output_type": "stream",
     "text": [
      "8. El cliente que más gastó está registrado con el ID C233536 gastando 49997.4 dólares\n"
     ]
    }
   ],
   "source": [
    "cliente_que_mas_gasto = df_filtrado.groupby('customer_id')['ventas'].max().sort_values(ascending=False)\n",
    "print(f'8. El cliente que más gastó está registrado con el ID {cliente_que_mas_gasto.index[0]} gastando {round(cliente_que_mas_gasto.iloc[0],2)} dólares')"
   ]
  },
  {
   "cell_type": "markdown",
   "metadata": {},
   "source": [
    "# 9. ¿Cuál es la factura con el precio total más alto?\n",
    "Guarda el resultado en una variable llamada `factura_max_valor`\n"
   ]
  },
  {
   "cell_type": "code",
   "execution_count": 46,
   "metadata": {},
   "outputs": [
    {
     "name": "stdout",
     "output_type": "stream",
     "text": [
      "9. La factura con precio más alto es la I200047 por un valor de 49997.4 dólares\n"
     ]
    }
   ],
   "source": [
    "factura_max_valor = df_filtrado.groupby('invoice_no')['ventas'].max().sort_values(ascending=False)\n",
    "print(f'9. La factura con precio más alto es la {factura_max_valor.index[0]} por un valor de {round(factura_max_valor.iloc[0],2)} dólares')"
   ]
  },
  {
   "cell_type": "code",
   "execution_count": 47,
   "metadata": {},
   "outputs": [
    {
     "data": {
      "text/plain": [
       "Index(['invoice_no', 'customer_id', 'category', 'quantity', 'price',\n",
       "       'invoice_date', 'shopping_mall', 'ventas'],\n",
       "      dtype='object')"
      ]
     },
     "execution_count": 47,
     "metadata": {},
     "output_type": "execute_result"
    }
   ],
   "source": [
    "df_filtrado.columns"
   ]
  },
  {
   "cell_type": "markdown",
   "metadata": {},
   "source": [
    "# 10. ¿Cuál es la distribución porcentual de ventas por categoría de producto?\n",
    "Guarda el resultado en una variable llamada `distribucion_porcentual_ventas_por_categoria`. El tipo de `distribucion_porcentual_ventas_por_categoria` debe ser `pandas.core.series.Series` donde las etiquetas deben ser las categorias y los valores deben ser la distribucion porcentual de las ventas por categoría\n"
   ]
  },
  {
   "cell_type": "code",
   "execution_count": 48,
   "metadata": {},
   "outputs": [
    {
     "name": "stdout",
     "output_type": "stream",
     "text": [
      "10. En la tabla de abajo se muestra la distribución porcentual de ventas por categoría: \n",
      "category\n",
      "Clothing           34.484750\n",
      "Cosmetics          15.204410\n",
      "Food & Beverage    14.915652\n",
      "Toys               10.196959\n",
      "Shoes              10.187487\n",
      "Technology          5.051002\n",
      "Books               4.983472\n",
      "Souvenir            4.976267\n",
      "Name: ventas, dtype: float64\n"
     ]
    }
   ],
   "source": [
    "ventas_por_categoria = df_filtrado.groupby('category')['ventas'].sum().sort_values(ascending=False)\n",
    "\n",
    "# distribucion_porcentual_ventas_por_categoria = df_filtrado.groupby('category')['ventas'].count().sort_values(ascending=False)\n",
    "distribucion_porcentual_ventas_por_categoria = (ventas_por_categoria / ventas_por_categoria.sum()) * 100\n",
    "print(f'10. En la tabla de abajo se muestra la distribución porcentual de ventas por categoría: \\n{distribucion_porcentual_ventas_por_categoria}')\n"
   ]
  },
  {
   "cell_type": "markdown",
   "metadata": {},
   "source": [
    "# 11. ¿Cuál es el día de la semana con más ventas registradas en cada centro comercial?\n",
    "Guarda el resultado en una variable llamada `dia_semana_mas_ventas_por_centro`. El tipo de `dia_semana_mas_ventas_por_centro` debe ser `pandas.core.series.Series` donde las etiquetas deben ser el nombre de los centros comerciales y los valores deben ser el nombre del dia de la semana con mas ventas."
   ]
  },
  {
   "cell_type": "code",
   "execution_count": 49,
   "metadata": {},
   "outputs": [
    {
     "name": "stdout",
     "output_type": "stream",
     "text": [
      "11. En la tabla de abajo se muestra el día de la semana con más ventas por centro comercial: \n",
      "shopping_mall\n",
      "Cevahir AVM             Sunday\n",
      "Emaar Square Mall       Friday\n",
      "Forum Istanbul          Monday\n",
      "Istinye Park            Friday\n",
      "Kanyon                  Monday\n",
      "Mall of Istanbul       Tuesday\n",
      "Metrocity            Wednesday\n",
      "Metropol AVM           Tuesday\n",
      "Viaport Outlet          Friday\n",
      "Zorlu Center           Tuesday\n",
      "Name: ventas, dtype: object\n"
     ]
    }
   ],
   "source": [
    "dia_semana = df_filtrado['invoice_date'].apply(lambda x: x.day_name())\n",
    "dia_semana\n",
    "ventas_por_dia = df_filtrado.groupby(['shopping_mall',dia_semana])['ventas'].sum()\n",
    "dia_semana_mas_ventas_por_centro = ventas_por_dia.groupby('shopping_mall').idxmax().apply(lambda x: x[1])\n",
    "print(f'11. En la tabla de abajo se muestra el día de la semana con más ventas por centro comercial: \\n{dia_semana_mas_ventas_por_centro}')"
   ]
  },
  {
   "cell_type": "code",
   "execution_count": 50,
   "metadata": {},
   "outputs": [
    {
     "data": {
      "text/plain": [
       "shopping_mall\n",
       "Cevahir AVM             Sunday\n",
       "Emaar Square Mall       Friday\n",
       "Forum Istanbul          Monday\n",
       "Istinye Park            Friday\n",
       "Kanyon                  Monday\n",
       "Mall of Istanbul       Tuesday\n",
       "Metrocity            Wednesday\n",
       "Metropol AVM           Tuesday\n",
       "Viaport Outlet          Friday\n",
       "Zorlu Center           Tuesday\n",
       "Name: ventas, dtype: object"
      ]
     },
     "execution_count": 50,
     "metadata": {},
     "output_type": "execute_result"
    }
   ],
   "source": [
    "dia_semana = df_filtrado['invoice_date'].apply(lambda x: x.day_name())\n",
    "ventas_por_dia = df_filtrado.groupby(['shopping_mall',dia_semana])['ventas'].sum()\n",
    "dia_semana_mas_ventas_por_centro = ventas_por_dia.groupby('shopping_mall').idxmax().apply(lambda x: x[1])\n",
    "dia_semana_mas_ventas_por_centro\n"
   ]
  },
  {
   "cell_type": "code",
   "execution_count": 51,
   "metadata": {},
   "outputs": [
    {
     "data": {
      "text/html": [
       "<div>\n",
       "<style scoped>\n",
       "    .dataframe tbody tr th:only-of-type {\n",
       "        vertical-align: middle;\n",
       "    }\n",
       "\n",
       "    .dataframe tbody tr th {\n",
       "        vertical-align: top;\n",
       "    }\n",
       "\n",
       "    .dataframe thead th {\n",
       "        text-align: right;\n",
       "    }\n",
       "</style>\n",
       "<table border=\"1\" class=\"dataframe\">\n",
       "  <thead>\n",
       "    <tr style=\"text-align: right;\">\n",
       "      <th></th>\n",
       "      <th>invoice_no</th>\n",
       "      <th>customer_id</th>\n",
       "      <th>category</th>\n",
       "      <th>quantity</th>\n",
       "      <th>price</th>\n",
       "      <th>invoice_date</th>\n",
       "      <th>shopping_mall</th>\n",
       "      <th>ventas</th>\n",
       "    </tr>\n",
       "  </thead>\n",
       "  <tbody>\n",
       "    <tr>\n",
       "      <th>0</th>\n",
       "      <td>I138884</td>\n",
       "      <td>C241288</td>\n",
       "      <td>Clothing</td>\n",
       "      <td>5</td>\n",
       "      <td>8172.24</td>\n",
       "      <td>2022-08-05</td>\n",
       "      <td>Kanyon</td>\n",
       "      <td>40861.20</td>\n",
       "    </tr>\n",
       "    <tr>\n",
       "      <th>1</th>\n",
       "      <td>I317333</td>\n",
       "      <td>C111565</td>\n",
       "      <td>Shoes</td>\n",
       "      <td>3</td>\n",
       "      <td>8868.64</td>\n",
       "      <td>2021-12-12</td>\n",
       "      <td>Forum Istanbul</td>\n",
       "      <td>26605.92</td>\n",
       "    </tr>\n",
       "    <tr>\n",
       "      <th>2</th>\n",
       "      <td>I127801</td>\n",
       "      <td>C266599</td>\n",
       "      <td>Clothing</td>\n",
       "      <td>1</td>\n",
       "      <td>4863.95</td>\n",
       "      <td>2021-11-09</td>\n",
       "      <td>Metrocity</td>\n",
       "      <td>4863.95</td>\n",
       "    </tr>\n",
       "    <tr>\n",
       "      <th>3</th>\n",
       "      <td>I173702</td>\n",
       "      <td>C988172</td>\n",
       "      <td>Shoes</td>\n",
       "      <td>5</td>\n",
       "      <td>711.48</td>\n",
       "      <td>2021-05-16</td>\n",
       "      <td>Metropol AVM</td>\n",
       "      <td>3557.40</td>\n",
       "    </tr>\n",
       "    <tr>\n",
       "      <th>4</th>\n",
       "      <td>I337046</td>\n",
       "      <td>C189076</td>\n",
       "      <td>Books</td>\n",
       "      <td>4</td>\n",
       "      <td>1110.32</td>\n",
       "      <td>2021-10-24</td>\n",
       "      <td>Kanyon</td>\n",
       "      <td>4441.28</td>\n",
       "    </tr>\n",
       "  </tbody>\n",
       "</table>\n",
       "</div>"
      ],
      "text/plain": [
       "  invoice_no customer_id  category  quantity    price invoice_date  \\\n",
       "0    I138884     C241288  Clothing         5  8172.24   2022-08-05   \n",
       "1    I317333     C111565     Shoes         3  8868.64   2021-12-12   \n",
       "2    I127801     C266599  Clothing         1  4863.95   2021-11-09   \n",
       "3    I173702     C988172     Shoes         5   711.48   2021-05-16   \n",
       "4    I337046     C189076     Books         4  1110.32   2021-10-24   \n",
       "\n",
       "    shopping_mall    ventas  \n",
       "0          Kanyon  40861.20  \n",
       "1  Forum Istanbul  26605.92  \n",
       "2       Metrocity   4863.95  \n",
       "3    Metropol AVM   3557.40  \n",
       "4          Kanyon   4441.28  "
      ]
     },
     "execution_count": 51,
     "metadata": {},
     "output_type": "execute_result"
    }
   ],
   "source": [
    "df_filtrado.head()"
   ]
  },
  {
   "cell_type": "code",
   "execution_count": 52,
   "metadata": {},
   "outputs": [
    {
     "data": {
      "text/plain": [
       "invoice_date\n",
       "Friday       13196\n",
       "Monday       13089\n",
       "Tuesday      12978\n",
       "Saturday     12967\n",
       "Thursday     12953\n",
       "Wednesday    12887\n",
       "Sunday       12863\n",
       "Name: count, dtype: int64"
      ]
     },
     "execution_count": 52,
     "metadata": {},
     "output_type": "execute_result"
    }
   ],
   "source": [
    "dia_semana = df_filtrado['invoice_date'].apply(lambda x: x.day_name()).value_counts()\n",
    "dia_semana\n",
    "\n",
    "# ventas_por_dia = df_filtrado.groupby('ventas')[dia_semana].sum()\n",
    "# ventas_por_dia\n",
    "\n",
    "# dia_semana_mas_ventas_por_centro = (df_filtrado.groupby('shopping_mall')[dia_semana].sum())\n",
    "# dia_semana_mas_ventas_por_centro"
   ]
  }
 ],
 "metadata": {
  "kernelspec": {
   "display_name": "kernel_con_pandas",
   "language": "python",
   "name": "python3"
  },
  "language_info": {
   "codemirror_mode": {
    "name": "ipython",
    "version": 3
   },
   "file_extension": ".py",
   "mimetype": "text/x-python",
   "name": "python",
   "nbconvert_exporter": "python",
   "pygments_lexer": "ipython3",
   "version": "3.10.15"
  }
 },
 "nbformat": 4,
 "nbformat_minor": 2
}
